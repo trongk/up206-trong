{
 "cells": [
  {
   "cell_type": "markdown",
   "id": "62da53ee-56ae-4ec6-b91d-a172b2f613cb",
   "metadata": {},
   "source": [
    "# Affordable Housing Development"
   ]
  },
  {
   "cell_type": "markdown",
   "id": "33b479c9-bb0f-43b8-85b5-b37352c3b48a",
   "metadata": {},
   "source": [
    "This data set highlights affordable housing development sites across the City of Los Angeles. It was published in 2015, and has been periodically updated since then. LA is becoming increasingly expensive, and residents are finding it increasingly difficult to pay rents. Through this data set, we can begin to understand the areas in Los Angeles that are being adequately served by affordable housing developments and the areas with shortages of affordable housing develoment sites.  "
   ]
  },
  {
   "cell_type": "markdown",
   "id": "3aaa135d-711f-428e-b560-3ad21f91a381",
   "metadata": {},
   "source": [
    "### Step 1\n",
    "Like in lab, I imported the geopandas module. I'm going to use this to plot the spatial data I will import next."
   ]
  },
  {
   "cell_type": "code",
   "execution_count": 4,
   "id": "486eadd6-3b8a-40db-981b-97be5364f831",
   "metadata": {},
   "outputs": [],
   "source": [
    "import geopandas as gpd"
   ]
  },
  {
   "cell_type": "markdown",
   "id": "99267ffd-95a5-425e-932a-df84ecfa3fff",
   "metadata": {},
   "source": [
    "### Step 2\n",
    "Next, I imported a [shapefile](up206a-trong/week01/data/Affordable_Housing_Development.zip) that I downloaded from the LA City [website](https://geohub.lacity.org/datasets/affordable-housing-development/explore?location=34.103219%2C-118.443878%2C10.83). I also named the dataset 'housing' and used geopandas to read the dataset."
   ]
  },
  {
   "cell_type": "code",
   "execution_count": 5,
   "id": "4a6bf8c1-19c2-4803-8b73-aa7badfee198",
   "metadata": {},
   "outputs": [],
   "source": [
    "housing = gpd.read_file('data/Affordable_Housing_Development.zip')"
   ]
  },
  {
   "cell_type": "markdown",
   "id": "7b78ccfc-f672-4e1b-b1f3-65224d50584f",
   "metadata": {},
   "source": [
    "### Step 3\n",
    "I then used the head() function to take a look at the first 5 data points on the set. "
   ]
  },
  {
   "cell_type": "code",
   "execution_count": 7,
   "id": "31ea1bb6-b95e-4284-a484-5e733e3733fc",
   "metadata": {},
   "outputs": [
    {
     "data": {
      "text/html": [
       "<div>\n",
       "<style scoped>\n",
       "    .dataframe tbody tr th:only-of-type {\n",
       "        vertical-align: middle;\n",
       "    }\n",
       "\n",
       "    .dataframe tbody tr th {\n",
       "        vertical-align: top;\n",
       "    }\n",
       "\n",
       "    .dataframe thead th {\n",
       "        text-align: right;\n",
       "    }\n",
       "</style>\n",
       "<table border=\"1\" class=\"dataframe\">\n",
       "  <thead>\n",
       "    <tr style=\"text-align: right;\">\n",
       "      <th></th>\n",
       "      <th>OBJECTID</th>\n",
       "      <th>PROJECT_NA</th>\n",
       "      <th>AV_ADD</th>\n",
       "      <th>TOOLTIP</th>\n",
       "      <th>NLA_URL</th>\n",
       "      <th>geometry</th>\n",
       "    </tr>\n",
       "  </thead>\n",
       "  <tbody>\n",
       "    <tr>\n",
       "      <th>0</th>\n",
       "      <td>1</td>\n",
       "      <td>1747 Normandie (Casa Dinivid)</td>\n",
       "      <td>1747 N. NORMANDIE AVE.</td>\n",
       "      <td>Project Name: 1747 Normandie (Casa Dinivid)\\nA...</td>\n",
       "      <td>navigatela/reports/affordable_housing.cfm?pk=1</td>\n",
       "      <td>POINT (-118.30055 34.10263)</td>\n",
       "    </tr>\n",
       "    <tr>\n",
       "      <th>1</th>\n",
       "      <td>2</td>\n",
       "      <td>LA Pro II Apts/berendo</td>\n",
       "      <td>1100 S. BERENDO</td>\n",
       "      <td>Project Name: LA Pro II Apts/berendo\\nAddress:...</td>\n",
       "      <td>navigatela/reports/affordable_housing.cfm?pk=2</td>\n",
       "      <td>POINT (-118.29370 34.05089)</td>\n",
       "    </tr>\n",
       "    <tr>\n",
       "      <th>2</th>\n",
       "      <td>3</td>\n",
       "      <td>7020 &amp; 7024 lennox ave apts</td>\n",
       "      <td>7020  N. LENNOX AVE.</td>\n",
       "      <td>Project Name: 7020 &amp; 7024 lennox ave apts\\nAdd...</td>\n",
       "      <td>navigatela/reports/affordable_housing.cfm?pk=3</td>\n",
       "      <td>POINT (-118.44546 34.19810)</td>\n",
       "    </tr>\n",
       "    <tr>\n",
       "      <th>3</th>\n",
       "      <td>4</td>\n",
       "      <td>LA Pro II Apts/western</td>\n",
       "      <td>10311 S. WESTERN AVE.</td>\n",
       "      <td>Project Name: LA Pro II Apts/western\\nAddress:...</td>\n",
       "      <td>navigatela/reports/affordable_housing.cfm?pk=4</td>\n",
       "      <td>POINT (-118.30901 33.94305)</td>\n",
       "    </tr>\n",
       "    <tr>\n",
       "      <th>4</th>\n",
       "      <td>5</td>\n",
       "      <td>LA Pro II Apts/menlo</td>\n",
       "      <td>3977 S. MENLO AVE.</td>\n",
       "      <td>Project Name: LA Pro II Apts/menlo\\nAddress: 3...</td>\n",
       "      <td>navigatela/reports/affordable_housing.cfm?pk=5</td>\n",
       "      <td>POINT (-118.29012 34.01220)</td>\n",
       "    </tr>\n",
       "  </tbody>\n",
       "</table>\n",
       "</div>"
      ],
      "text/plain": [
       "   OBJECTID                     PROJECT_NA                  AV_ADD  \\\n",
       "0         1  1747 Normandie (Casa Dinivid)  1747 N. NORMANDIE AVE.   \n",
       "1         2         LA Pro II Apts/berendo         1100 S. BERENDO   \n",
       "2         3    7020 & 7024 lennox ave apts    7020  N. LENNOX AVE.   \n",
       "3         4         LA Pro II Apts/western   10311 S. WESTERN AVE.   \n",
       "4         5           LA Pro II Apts/menlo      3977 S. MENLO AVE.   \n",
       "\n",
       "                                             TOOLTIP  \\\n",
       "0  Project Name: 1747 Normandie (Casa Dinivid)\\nA...   \n",
       "1  Project Name: LA Pro II Apts/berendo\\nAddress:...   \n",
       "2  Project Name: 7020 & 7024 lennox ave apts\\nAdd...   \n",
       "3  Project Name: LA Pro II Apts/western\\nAddress:...   \n",
       "4  Project Name: LA Pro II Apts/menlo\\nAddress: 3...   \n",
       "\n",
       "                                          NLA_URL                     geometry  \n",
       "0  navigatela/reports/affordable_housing.cfm?pk=1  POINT (-118.30055 34.10263)  \n",
       "1  navigatela/reports/affordable_housing.cfm?pk=2  POINT (-118.29370 34.05089)  \n",
       "2  navigatela/reports/affordable_housing.cfm?pk=3  POINT (-118.44546 34.19810)  \n",
       "3  navigatela/reports/affordable_housing.cfm?pk=4  POINT (-118.30901 33.94305)  \n",
       "4  navigatela/reports/affordable_housing.cfm?pk=5  POINT (-118.29012 34.01220)  "
      ]
     },
     "execution_count": 7,
     "metadata": {},
     "output_type": "execute_result"
    }
   ],
   "source": [
    "housing.head()"
   ]
  },
  {
   "cell_type": "markdown",
   "id": "1605ca91-b613-46ac-81e2-1729eefba54a",
   "metadata": {},
   "source": [
    "### Step 4\n",
    "I followed up with the tail() function to take a look at the 5 last data points on the set."
   ]
  },
  {
   "cell_type": "code",
   "execution_count": 10,
   "id": "aa70c5d4-5384-4f46-9f33-b3457024f806",
   "metadata": {},
   "outputs": [
    {
     "data": {
      "text/html": [
       "<div>\n",
       "<style scoped>\n",
       "    .dataframe tbody tr th:only-of-type {\n",
       "        vertical-align: middle;\n",
       "    }\n",
       "\n",
       "    .dataframe tbody tr th {\n",
       "        vertical-align: top;\n",
       "    }\n",
       "\n",
       "    .dataframe thead th {\n",
       "        text-align: right;\n",
       "    }\n",
       "</style>\n",
       "<table border=\"1\" class=\"dataframe\">\n",
       "  <thead>\n",
       "    <tr style=\"text-align: right;\">\n",
       "      <th></th>\n",
       "      <th>OBJECTID</th>\n",
       "      <th>PROJECT_NA</th>\n",
       "      <th>AV_ADD</th>\n",
       "      <th>TOOLTIP</th>\n",
       "      <th>NLA_URL</th>\n",
       "      <th>geometry</th>\n",
       "    </tr>\n",
       "  </thead>\n",
       "  <tbody>\n",
       "    <tr>\n",
       "      <th>2376</th>\n",
       "      <td>2377</td>\n",
       "      <td>956 W. 9th Street - Unit 4</td>\n",
       "      <td>956 W. 9TH STREET-#4</td>\n",
       "      <td>Project Name: 956 W. 9th Street - Unit 4\\nAddr...</td>\n",
       "      <td>navigatela/reports/affordable_housing.cfm?pk=2377</td>\n",
       "      <td>POINT (-118.29803 33.73608)</td>\n",
       "    </tr>\n",
       "    <tr>\n",
       "      <th>2377</th>\n",
       "      <td>2378</td>\n",
       "      <td>956 W. 9th Street - Unit 5</td>\n",
       "      <td>956 W. 9TH STREET-#5</td>\n",
       "      <td>Project Name: 956 W. 9th Street - Unit 5\\nAddr...</td>\n",
       "      <td>navigatela/reports/affordable_housing.cfm?pk=2378</td>\n",
       "      <td>POINT (-118.29803 33.73608)</td>\n",
       "    </tr>\n",
       "    <tr>\n",
       "      <th>2378</th>\n",
       "      <td>2379</td>\n",
       "      <td>956 W. 9th Street - Unit 6</td>\n",
       "      <td>956 W. 9TH STREET-#6</td>\n",
       "      <td>Project Name: 956 W. 9th Street - Unit 6\\nAddr...</td>\n",
       "      <td>navigatela/reports/affordable_housing.cfm?pk=2379</td>\n",
       "      <td>POINT (-118.29803 33.73608)</td>\n",
       "    </tr>\n",
       "    <tr>\n",
       "      <th>2379</th>\n",
       "      <td>2380</td>\n",
       "      <td>9247-9257 Van Nuys Boulevard Apts</td>\n",
       "      <td>9247-9257 VAN NUYS BOULEVARD</td>\n",
       "      <td>Project Name: 9247-9257 Van Nuys Boulevard Apt...</td>\n",
       "      <td>navigatela/reports/affordable_housing.cfm?pk=2380</td>\n",
       "      <td>POINT (-118.45026 34.23811)</td>\n",
       "    </tr>\n",
       "    <tr>\n",
       "      <th>2380</th>\n",
       "      <td>2381</td>\n",
       "      <td>Vista Del Sol (Phase III of Pueblo Del Sol - A...</td>\n",
       "      <td>1201 KEARNEY</td>\n",
       "      <td>Project Name: Vista Del Sol (Phase III of Pueb...</td>\n",
       "      <td>navigatela/reports/affordable_housing.cfm?pk=2381</td>\n",
       "      <td>POINT (-118.22715 34.05100)</td>\n",
       "    </tr>\n",
       "  </tbody>\n",
       "</table>\n",
       "</div>"
      ],
      "text/plain": [
       "      OBJECTID                                         PROJECT_NA  \\\n",
       "2376      2377                         956 W. 9th Street - Unit 4   \n",
       "2377      2378                         956 W. 9th Street - Unit 5   \n",
       "2378      2379                         956 W. 9th Street - Unit 6   \n",
       "2379      2380                  9247-9257 Van Nuys Boulevard Apts   \n",
       "2380      2381  Vista Del Sol (Phase III of Pueblo Del Sol - A...   \n",
       "\n",
       "                            AV_ADD  \\\n",
       "2376          956 W. 9TH STREET-#4   \n",
       "2377          956 W. 9TH STREET-#5   \n",
       "2378          956 W. 9TH STREET-#6   \n",
       "2379  9247-9257 VAN NUYS BOULEVARD   \n",
       "2380                  1201 KEARNEY   \n",
       "\n",
       "                                                TOOLTIP  \\\n",
       "2376  Project Name: 956 W. 9th Street - Unit 4\\nAddr...   \n",
       "2377  Project Name: 956 W. 9th Street - Unit 5\\nAddr...   \n",
       "2378  Project Name: 956 W. 9th Street - Unit 6\\nAddr...   \n",
       "2379  Project Name: 9247-9257 Van Nuys Boulevard Apt...   \n",
       "2380  Project Name: Vista Del Sol (Phase III of Pueb...   \n",
       "\n",
       "                                                NLA_URL  \\\n",
       "2376  navigatela/reports/affordable_housing.cfm?pk=2377   \n",
       "2377  navigatela/reports/affordable_housing.cfm?pk=2378   \n",
       "2378  navigatela/reports/affordable_housing.cfm?pk=2379   \n",
       "2379  navigatela/reports/affordable_housing.cfm?pk=2380   \n",
       "2380  navigatela/reports/affordable_housing.cfm?pk=2381   \n",
       "\n",
       "                         geometry  \n",
       "2376  POINT (-118.29803 33.73608)  \n",
       "2377  POINT (-118.29803 33.73608)  \n",
       "2378  POINT (-118.29803 33.73608)  \n",
       "2379  POINT (-118.45026 34.23811)  \n",
       "2380  POINT (-118.22715 34.05100)  "
      ]
     },
     "execution_count": 10,
     "metadata": {},
     "output_type": "execute_result"
    }
   ],
   "source": [
    "housing.tail()"
   ]
  },
  {
   "cell_type": "markdown",
   "id": "86d1ecf7-1e33-4daf-a4ed-0be4c681937c",
   "metadata": {},
   "source": [
    "### Step 5\n",
    "Finally, I used the sample(10) function to take a look at 10 random data points in the set."
   ]
  },
  {
   "cell_type": "code",
   "execution_count": 11,
   "id": "22ae0245-7444-447a-bdc6-dfe3dac8df45",
   "metadata": {},
   "outputs": [
    {
     "data": {
      "text/html": [
       "<div>\n",
       "<style scoped>\n",
       "    .dataframe tbody tr th:only-of-type {\n",
       "        vertical-align: middle;\n",
       "    }\n",
       "\n",
       "    .dataframe tbody tr th {\n",
       "        vertical-align: top;\n",
       "    }\n",
       "\n",
       "    .dataframe thead th {\n",
       "        text-align: right;\n",
       "    }\n",
       "</style>\n",
       "<table border=\"1\" class=\"dataframe\">\n",
       "  <thead>\n",
       "    <tr style=\"text-align: right;\">\n",
       "      <th></th>\n",
       "      <th>OBJECTID</th>\n",
       "      <th>PROJECT_NA</th>\n",
       "      <th>AV_ADD</th>\n",
       "      <th>TOOLTIP</th>\n",
       "      <th>NLA_URL</th>\n",
       "      <th>geometry</th>\n",
       "    </tr>\n",
       "  </thead>\n",
       "  <tbody>\n",
       "    <tr>\n",
       "      <th>1562</th>\n",
       "      <td>1563</td>\n",
       "      <td>MARIPOSA FAMILY APARTMENTS</td>\n",
       "      <td>511 S. MARIPOSA AVE.</td>\n",
       "      <td>Project Name: MARIPOSA FAMILY APARTMENTS\\nAddr...</td>\n",
       "      <td>navigatela/reports/affordable_housing.cfm?pk=1563</td>\n",
       "      <td>POINT (-118.29920 34.06518)</td>\n",
       "    </tr>\n",
       "    <tr>\n",
       "      <th>1196</th>\n",
       "      <td>1197</td>\n",
       "      <td>Reseda Manor</td>\n",
       "      <td>7725 N. RESEDA BLVD.</td>\n",
       "      <td>Project Name: Reseda Manor\\nAddress: 7725 N. R...</td>\n",
       "      <td>navigatela/reports/affordable_housing.cfm?pk=1197</td>\n",
       "      <td>POINT (-118.53607 34.21070)</td>\n",
       "    </tr>\n",
       "    <tr>\n",
       "      <th>349</th>\n",
       "      <td>350</td>\n",
       "      <td>Freeway Redevelopment/5</td>\n",
       "      <td>606 W. 47TH ST.</td>\n",
       "      <td>Project Name: Freeway Redevelopment/5\\nAddress...</td>\n",
       "      <td>navigatela/reports/affordable_housing.cfm?pk=350</td>\n",
       "      <td>POINT (-118.28431 34.00068)</td>\n",
       "    </tr>\n",
       "    <tr>\n",
       "      <th>688</th>\n",
       "      <td>689</td>\n",
       "      <td>BURKHALTER, WILLIAM</td>\n",
       "      <td>1647 W. 11TH STREET</td>\n",
       "      <td>Project Name: BURKHALTER, WILLIAM\\nAddress: 16...</td>\n",
       "      <td>navigatela/reports/affordable_housing.cfm?pk=689</td>\n",
       "      <td>POINT (-118.27581 34.04806)</td>\n",
       "    </tr>\n",
       "    <tr>\n",
       "      <th>846</th>\n",
       "      <td>847</td>\n",
       "      <td>Larsen Apts.</td>\n",
       "      <td>1237 S. ALVARADO ST.</td>\n",
       "      <td>Project Name: Larsen Apts.\\nAddress: 1237 S. A...</td>\n",
       "      <td>navigatela/reports/affordable_housing.cfm?pk=847</td>\n",
       "      <td>POINT (-118.28208 34.04822)</td>\n",
       "    </tr>\n",
       "    <tr>\n",
       "      <th>2056</th>\n",
       "      <td>2057</td>\n",
       "      <td>522 127TH STREET</td>\n",
       "      <td>522 W. 127TH ST.</td>\n",
       "      <td>Project Name: 522 127TH STREET\\nAddress: 522 W...</td>\n",
       "      <td>navigatela/reports/affordable_housing.cfm?pk=2057</td>\n",
       "      <td>POINT (-118.28326 33.91764)</td>\n",
       "    </tr>\n",
       "    <tr>\n",
       "      <th>735</th>\n",
       "      <td>736</td>\n",
       "      <td>Di Rosario Pitcher</td>\n",
       "      <td>5412 WILLOWCREST AVE.</td>\n",
       "      <td>Project Name: Di Rosario Pitcher\\nAddress: 541...</td>\n",
       "      <td>navigatela/reports/affordable_housing.cfm?pk=736</td>\n",
       "      <td>POINT (-118.36264 34.16890)</td>\n",
       "    </tr>\n",
       "    <tr>\n",
       "      <th>540</th>\n",
       "      <td>541</td>\n",
       "      <td>Project #  17</td>\n",
       "      <td>6228 N. FULTON AVE.</td>\n",
       "      <td>Project Name: Project #  17\\nAddress: 6228 N. ...</td>\n",
       "      <td>navigatela/reports/affordable_housing.cfm?pk=541</td>\n",
       "      <td>POINT (-118.42247 34.18361)</td>\n",
       "    </tr>\n",
       "    <tr>\n",
       "      <th>21</th>\n",
       "      <td>22</td>\n",
       "      <td>Mid-Town Apartments/1</td>\n",
       "      <td>2674 JAMES M. WOOD BLVD.</td>\n",
       "      <td>Project Name: Mid-Town Apartments/1\\nAddress: ...</td>\n",
       "      <td>navigatela/reports/affordable_housing.cfm?pk=22</td>\n",
       "      <td>POINT (-118.28610 34.05593)</td>\n",
       "    </tr>\n",
       "    <tr>\n",
       "      <th>1294</th>\n",
       "      <td>1295</td>\n",
       "      <td>Vista Tower</td>\n",
       "      <td>3000 LEEWARD AVE.</td>\n",
       "      <td>Project Name: Vista Tower\\nAddress: 3000 LEEWA...</td>\n",
       "      <td>navigatela/reports/affordable_housing.cfm?pk=1295</td>\n",
       "      <td>POINT (-118.28915 34.05872)</td>\n",
       "    </tr>\n",
       "  </tbody>\n",
       "</table>\n",
       "</div>"
      ],
      "text/plain": [
       "      OBJECTID                  PROJECT_NA                    AV_ADD  \\\n",
       "1562      1563  MARIPOSA FAMILY APARTMENTS      511 S. MARIPOSA AVE.   \n",
       "1196      1197                Reseda Manor      7725 N. RESEDA BLVD.   \n",
       "349        350     Freeway Redevelopment/5           606 W. 47TH ST.   \n",
       "688        689         BURKHALTER, WILLIAM       1647 W. 11TH STREET   \n",
       "846        847                Larsen Apts.      1237 S. ALVARADO ST.   \n",
       "2056      2057            522 127TH STREET          522 W. 127TH ST.   \n",
       "735        736          Di Rosario Pitcher     5412 WILLOWCREST AVE.   \n",
       "540        541               Project #  17       6228 N. FULTON AVE.   \n",
       "21          22       Mid-Town Apartments/1  2674 JAMES M. WOOD BLVD.   \n",
       "1294      1295                 Vista Tower         3000 LEEWARD AVE.   \n",
       "\n",
       "                                                TOOLTIP  \\\n",
       "1562  Project Name: MARIPOSA FAMILY APARTMENTS\\nAddr...   \n",
       "1196  Project Name: Reseda Manor\\nAddress: 7725 N. R...   \n",
       "349   Project Name: Freeway Redevelopment/5\\nAddress...   \n",
       "688   Project Name: BURKHALTER, WILLIAM\\nAddress: 16...   \n",
       "846   Project Name: Larsen Apts.\\nAddress: 1237 S. A...   \n",
       "2056  Project Name: 522 127TH STREET\\nAddress: 522 W...   \n",
       "735   Project Name: Di Rosario Pitcher\\nAddress: 541...   \n",
       "540   Project Name: Project #  17\\nAddress: 6228 N. ...   \n",
       "21    Project Name: Mid-Town Apartments/1\\nAddress: ...   \n",
       "1294  Project Name: Vista Tower\\nAddress: 3000 LEEWA...   \n",
       "\n",
       "                                                NLA_URL  \\\n",
       "1562  navigatela/reports/affordable_housing.cfm?pk=1563   \n",
       "1196  navigatela/reports/affordable_housing.cfm?pk=1197   \n",
       "349    navigatela/reports/affordable_housing.cfm?pk=350   \n",
       "688    navigatela/reports/affordable_housing.cfm?pk=689   \n",
       "846    navigatela/reports/affordable_housing.cfm?pk=847   \n",
       "2056  navigatela/reports/affordable_housing.cfm?pk=2057   \n",
       "735    navigatela/reports/affordable_housing.cfm?pk=736   \n",
       "540    navigatela/reports/affordable_housing.cfm?pk=541   \n",
       "21      navigatela/reports/affordable_housing.cfm?pk=22   \n",
       "1294  navigatela/reports/affordable_housing.cfm?pk=1295   \n",
       "\n",
       "                         geometry  \n",
       "1562  POINT (-118.29920 34.06518)  \n",
       "1196  POINT (-118.53607 34.21070)  \n",
       "349   POINT (-118.28431 34.00068)  \n",
       "688   POINT (-118.27581 34.04806)  \n",
       "846   POINT (-118.28208 34.04822)  \n",
       "2056  POINT (-118.28326 33.91764)  \n",
       "735   POINT (-118.36264 34.16890)  \n",
       "540   POINT (-118.42247 34.18361)  \n",
       "21    POINT (-118.28610 34.05593)  \n",
       "1294  POINT (-118.28915 34.05872)  "
      ]
     },
     "execution_count": 11,
     "metadata": {},
     "output_type": "execute_result"
    }
   ],
   "source": [
    "housing.sample(10)"
   ]
  },
  {
   "cell_type": "markdown",
   "id": "a1f549af-3597-43ac-b91c-c0049c0ef02e",
   "metadata": {
    "tags": []
   },
   "source": [
    "### Step 6\n",
    "Next, I used the info() function to identify the datatypes availible in the dataset."
   ]
  },
  {
   "cell_type": "code",
   "execution_count": 23,
   "id": "71524ead-2730-4b1e-899a-57e819064a9b",
   "metadata": {},
   "outputs": [
    {
     "name": "stdout",
     "output_type": "stream",
     "text": [
      "<class 'geopandas.geodataframe.GeoDataFrame'>\n",
      "RangeIndex: 2381 entries, 0 to 2380\n",
      "Data columns (total 6 columns):\n",
      " #   Column      Non-Null Count  Dtype   \n",
      "---  ------      --------------  -----   \n",
      " 0   OBJECTID    2381 non-null   int64   \n",
      " 1   PROJECT_NA  2381 non-null   object  \n",
      " 2   AV_ADD      2381 non-null   object  \n",
      " 3   TOOLTIP     2381 non-null   object  \n",
      " 4   NLA_URL     2381 non-null   object  \n",
      " 5   geometry    2379 non-null   geometry\n",
      "dtypes: geometry(1), int64(1), object(4)\n",
      "memory usage: 111.7+ KB\n"
     ]
    }
   ],
   "source": [
    "housing.info()"
   ]
  },
  {
   "cell_type": "markdown",
   "id": "9fd24f21-3be4-4c51-8d70-8043a0984d5a",
   "metadata": {},
   "source": [
    "### Step 7\n",
    "The shape function tells me how many rows and columns are available in this dataset."
   ]
  },
  {
   "cell_type": "code",
   "execution_count": 26,
   "id": "5b1a458c-229d-4a9f-8e2b-1bf792f7c649",
   "metadata": {},
   "outputs": [
    {
     "data": {
      "text/plain": [
       "(2381, 6)"
      ]
     },
     "execution_count": 26,
     "metadata": {},
     "output_type": "execute_result"
    }
   ],
   "source": [
    "housing.shape"
   ]
  },
  {
   "cell_type": "markdown",
   "id": "55c304ca-dc2c-4b4c-a49a-09d107b7f34e",
   "metadata": {},
   "source": [
    "\n",
    "### Step 8\n",
    "I removed the colums that I didn't really care about and kept the columns that were important. In this case, I kept the project name, the project address, and the spatial data info of the project."
   ]
  },
  {
   "cell_type": "code",
   "execution_count": 31,
   "id": "f91cd4ad-b183-4c37-8b43-6d19775285ad",
   "metadata": {},
   "outputs": [
    {
     "data": {
      "text/html": [
       "<div>\n",
       "<style scoped>\n",
       "    .dataframe tbody tr th:only-of-type {\n",
       "        vertical-align: middle;\n",
       "    }\n",
       "\n",
       "    .dataframe tbody tr th {\n",
       "        vertical-align: top;\n",
       "    }\n",
       "\n",
       "    .dataframe thead th {\n",
       "        text-align: right;\n",
       "    }\n",
       "</style>\n",
       "<table border=\"1\" class=\"dataframe\">\n",
       "  <thead>\n",
       "    <tr style=\"text-align: right;\">\n",
       "      <th></th>\n",
       "      <th>PROJECT_NA</th>\n",
       "      <th>AV_ADD</th>\n",
       "      <th>geometry</th>\n",
       "    </tr>\n",
       "  </thead>\n",
       "  <tbody>\n",
       "    <tr>\n",
       "      <th>0</th>\n",
       "      <td>1747 Normandie (Casa Dinivid)</td>\n",
       "      <td>1747 N. NORMANDIE AVE.</td>\n",
       "      <td>POINT (-118.30055 34.10263)</td>\n",
       "    </tr>\n",
       "    <tr>\n",
       "      <th>1</th>\n",
       "      <td>LA Pro II Apts/berendo</td>\n",
       "      <td>1100 S. BERENDO</td>\n",
       "      <td>POINT (-118.29370 34.05089)</td>\n",
       "    </tr>\n",
       "    <tr>\n",
       "      <th>2</th>\n",
       "      <td>7020 &amp; 7024 lennox ave apts</td>\n",
       "      <td>7020  N. LENNOX AVE.</td>\n",
       "      <td>POINT (-118.44546 34.19810)</td>\n",
       "    </tr>\n",
       "    <tr>\n",
       "      <th>3</th>\n",
       "      <td>LA Pro II Apts/western</td>\n",
       "      <td>10311 S. WESTERN AVE.</td>\n",
       "      <td>POINT (-118.30901 33.94305)</td>\n",
       "    </tr>\n",
       "    <tr>\n",
       "      <th>4</th>\n",
       "      <td>LA Pro II Apts/menlo</td>\n",
       "      <td>3977 S. MENLO AVE.</td>\n",
       "      <td>POINT (-118.29012 34.01220)</td>\n",
       "    </tr>\n",
       "    <tr>\n",
       "      <th>...</th>\n",
       "      <td>...</td>\n",
       "      <td>...</td>\n",
       "      <td>...</td>\n",
       "    </tr>\n",
       "    <tr>\n",
       "      <th>2376</th>\n",
       "      <td>956 W. 9th Street - Unit 4</td>\n",
       "      <td>956 W. 9TH STREET-#4</td>\n",
       "      <td>POINT (-118.29803 33.73608)</td>\n",
       "    </tr>\n",
       "    <tr>\n",
       "      <th>2377</th>\n",
       "      <td>956 W. 9th Street - Unit 5</td>\n",
       "      <td>956 W. 9TH STREET-#5</td>\n",
       "      <td>POINT (-118.29803 33.73608)</td>\n",
       "    </tr>\n",
       "    <tr>\n",
       "      <th>2378</th>\n",
       "      <td>956 W. 9th Street - Unit 6</td>\n",
       "      <td>956 W. 9TH STREET-#6</td>\n",
       "      <td>POINT (-118.29803 33.73608)</td>\n",
       "    </tr>\n",
       "    <tr>\n",
       "      <th>2379</th>\n",
       "      <td>9247-9257 Van Nuys Boulevard Apts</td>\n",
       "      <td>9247-9257 VAN NUYS BOULEVARD</td>\n",
       "      <td>POINT (-118.45026 34.23811)</td>\n",
       "    </tr>\n",
       "    <tr>\n",
       "      <th>2380</th>\n",
       "      <td>Vista Del Sol (Phase III of Pueblo Del Sol - A...</td>\n",
       "      <td>1201 KEARNEY</td>\n",
       "      <td>POINT (-118.22715 34.05100)</td>\n",
       "    </tr>\n",
       "  </tbody>\n",
       "</table>\n",
       "<p>2381 rows × 3 columns</p>\n",
       "</div>"
      ],
      "text/plain": [
       "                                             PROJECT_NA  \\\n",
       "0                         1747 Normandie (Casa Dinivid)   \n",
       "1                                LA Pro II Apts/berendo   \n",
       "2                           7020 & 7024 lennox ave apts   \n",
       "3                                LA Pro II Apts/western   \n",
       "4                                  LA Pro II Apts/menlo   \n",
       "...                                                 ...   \n",
       "2376                         956 W. 9th Street - Unit 4   \n",
       "2377                         956 W. 9th Street - Unit 5   \n",
       "2378                         956 W. 9th Street - Unit 6   \n",
       "2379                  9247-9257 Van Nuys Boulevard Apts   \n",
       "2380  Vista Del Sol (Phase III of Pueblo Del Sol - A...   \n",
       "\n",
       "                            AV_ADD                     geometry  \n",
       "0           1747 N. NORMANDIE AVE.  POINT (-118.30055 34.10263)  \n",
       "1                  1100 S. BERENDO  POINT (-118.29370 34.05089)  \n",
       "2             7020  N. LENNOX AVE.  POINT (-118.44546 34.19810)  \n",
       "3            10311 S. WESTERN AVE.  POINT (-118.30901 33.94305)  \n",
       "4               3977 S. MENLO AVE.  POINT (-118.29012 34.01220)  \n",
       "...                            ...                          ...  \n",
       "2376          956 W. 9TH STREET-#4  POINT (-118.29803 33.73608)  \n",
       "2377          956 W. 9TH STREET-#5  POINT (-118.29803 33.73608)  \n",
       "2378          956 W. 9TH STREET-#6  POINT (-118.29803 33.73608)  \n",
       "2379  9247-9257 VAN NUYS BOULEVARD  POINT (-118.45026 34.23811)  \n",
       "2380                  1201 KEARNEY  POINT (-118.22715 34.05100)  \n",
       "\n",
       "[2381 rows x 3 columns]"
      ]
     },
     "execution_count": 31,
     "metadata": {},
     "output_type": "execute_result"
    }
   ],
   "source": [
    "housing[['PROJECT_NA','AV_ADD','geometry']]"
   ]
  },
  {
   "cell_type": "markdown",
   "id": "47854c73-003c-4e11-bb08-4d103f3ff1c6",
   "metadata": {},
   "source": [
    "### Step 9\n",
    "I then defined the three colums that I wan to keep as 'important-columns'"
   ]
  },
  {
   "cell_type": "code",
   "execution_count": 34,
   "id": "11d8c4c7-d2ea-407f-a6ff-c59f37c1ca62",
   "metadata": {},
   "outputs": [],
   "source": [
    "important_columns = ['PROJECT_NA','AV_ADD','geometry']"
   ]
  },
  {
   "cell_type": "markdown",
   "id": "c25571a4-5a86-4c39-a798-497f29c6750a",
   "metadata": {},
   "source": [
    "### Step 10\n",
    "I then cretaed a new dataset called 'housing_trimmed'. This data set includes only the three columns that I deemed were important. "
   ]
  },
  {
   "cell_type": "code",
   "execution_count": 36,
   "id": "7cb82409-eded-446a-8bca-301dce691598",
   "metadata": {},
   "outputs": [
    {
     "data": {
      "text/html": [
       "<div>\n",
       "<style scoped>\n",
       "    .dataframe tbody tr th:only-of-type {\n",
       "        vertical-align: middle;\n",
       "    }\n",
       "\n",
       "    .dataframe tbody tr th {\n",
       "        vertical-align: top;\n",
       "    }\n",
       "\n",
       "    .dataframe thead th {\n",
       "        text-align: right;\n",
       "    }\n",
       "</style>\n",
       "<table border=\"1\" class=\"dataframe\">\n",
       "  <thead>\n",
       "    <tr style=\"text-align: right;\">\n",
       "      <th></th>\n",
       "      <th>PROJECT_NA</th>\n",
       "      <th>AV_ADD</th>\n",
       "      <th>geometry</th>\n",
       "    </tr>\n",
       "  </thead>\n",
       "  <tbody>\n",
       "    <tr>\n",
       "      <th>0</th>\n",
       "      <td>1747 Normandie (Casa Dinivid)</td>\n",
       "      <td>1747 N. NORMANDIE AVE.</td>\n",
       "      <td>POINT (-118.30055 34.10263)</td>\n",
       "    </tr>\n",
       "    <tr>\n",
       "      <th>1</th>\n",
       "      <td>LA Pro II Apts/berendo</td>\n",
       "      <td>1100 S. BERENDO</td>\n",
       "      <td>POINT (-118.29370 34.05089)</td>\n",
       "    </tr>\n",
       "    <tr>\n",
       "      <th>2</th>\n",
       "      <td>7020 &amp; 7024 lennox ave apts</td>\n",
       "      <td>7020  N. LENNOX AVE.</td>\n",
       "      <td>POINT (-118.44546 34.19810)</td>\n",
       "    </tr>\n",
       "    <tr>\n",
       "      <th>3</th>\n",
       "      <td>LA Pro II Apts/western</td>\n",
       "      <td>10311 S. WESTERN AVE.</td>\n",
       "      <td>POINT (-118.30901 33.94305)</td>\n",
       "    </tr>\n",
       "    <tr>\n",
       "      <th>4</th>\n",
       "      <td>LA Pro II Apts/menlo</td>\n",
       "      <td>3977 S. MENLO AVE.</td>\n",
       "      <td>POINT (-118.29012 34.01220)</td>\n",
       "    </tr>\n",
       "    <tr>\n",
       "      <th>...</th>\n",
       "      <td>...</td>\n",
       "      <td>...</td>\n",
       "      <td>...</td>\n",
       "    </tr>\n",
       "    <tr>\n",
       "      <th>2376</th>\n",
       "      <td>956 W. 9th Street - Unit 4</td>\n",
       "      <td>956 W. 9TH STREET-#4</td>\n",
       "      <td>POINT (-118.29803 33.73608)</td>\n",
       "    </tr>\n",
       "    <tr>\n",
       "      <th>2377</th>\n",
       "      <td>956 W. 9th Street - Unit 5</td>\n",
       "      <td>956 W. 9TH STREET-#5</td>\n",
       "      <td>POINT (-118.29803 33.73608)</td>\n",
       "    </tr>\n",
       "    <tr>\n",
       "      <th>2378</th>\n",
       "      <td>956 W. 9th Street - Unit 6</td>\n",
       "      <td>956 W. 9TH STREET-#6</td>\n",
       "      <td>POINT (-118.29803 33.73608)</td>\n",
       "    </tr>\n",
       "    <tr>\n",
       "      <th>2379</th>\n",
       "      <td>9247-9257 Van Nuys Boulevard Apts</td>\n",
       "      <td>9247-9257 VAN NUYS BOULEVARD</td>\n",
       "      <td>POINT (-118.45026 34.23811)</td>\n",
       "    </tr>\n",
       "    <tr>\n",
       "      <th>2380</th>\n",
       "      <td>Vista Del Sol (Phase III of Pueblo Del Sol - A...</td>\n",
       "      <td>1201 KEARNEY</td>\n",
       "      <td>POINT (-118.22715 34.05100)</td>\n",
       "    </tr>\n",
       "  </tbody>\n",
       "</table>\n",
       "<p>2381 rows × 3 columns</p>\n",
       "</div>"
      ],
      "text/plain": [
       "                                             PROJECT_NA  \\\n",
       "0                         1747 Normandie (Casa Dinivid)   \n",
       "1                                LA Pro II Apts/berendo   \n",
       "2                           7020 & 7024 lennox ave apts   \n",
       "3                                LA Pro II Apts/western   \n",
       "4                                  LA Pro II Apts/menlo   \n",
       "...                                                 ...   \n",
       "2376                         956 W. 9th Street - Unit 4   \n",
       "2377                         956 W. 9th Street - Unit 5   \n",
       "2378                         956 W. 9th Street - Unit 6   \n",
       "2379                  9247-9257 Van Nuys Boulevard Apts   \n",
       "2380  Vista Del Sol (Phase III of Pueblo Del Sol - A...   \n",
       "\n",
       "                            AV_ADD                     geometry  \n",
       "0           1747 N. NORMANDIE AVE.  POINT (-118.30055 34.10263)  \n",
       "1                  1100 S. BERENDO  POINT (-118.29370 34.05089)  \n",
       "2             7020  N. LENNOX AVE.  POINT (-118.44546 34.19810)  \n",
       "3            10311 S. WESTERN AVE.  POINT (-118.30901 33.94305)  \n",
       "4               3977 S. MENLO AVE.  POINT (-118.29012 34.01220)  \n",
       "...                            ...                          ...  \n",
       "2376          956 W. 9TH STREET-#4  POINT (-118.29803 33.73608)  \n",
       "2377          956 W. 9TH STREET-#5  POINT (-118.29803 33.73608)  \n",
       "2378          956 W. 9TH STREET-#6  POINT (-118.29803 33.73608)  \n",
       "2379  9247-9257 VAN NUYS BOULEVARD  POINT (-118.45026 34.23811)  \n",
       "2380                  1201 KEARNEY  POINT (-118.22715 34.05100)  \n",
       "\n",
       "[2381 rows x 3 columns]"
      ]
     },
     "execution_count": 36,
     "metadata": {},
     "output_type": "execute_result"
    }
   ],
   "source": [
    "housing_trimmed = housing[important_columns].copy()\n",
    "housing_trimmed"
   ]
  },
  {
   "cell_type": "markdown",
   "id": "028542f6-e06c-4a1b-a417-c052e778f535",
   "metadata": {},
   "source": [
    "### Step 11\n",
    "I used the plot() function to place the affordable houisng sites on a graph. This is where geopandas comes in. "
   ]
  },
  {
   "cell_type": "code",
   "execution_count": 37,
   "id": "1d5d8b81-c5d4-42b5-960d-2ec0c3777942",
   "metadata": {},
   "outputs": [
    {
     "data": {
      "text/plain": [
       "<AxesSubplot:>"
      ]
     },
     "execution_count": 37,
     "metadata": {},
     "output_type": "execute_result"
    },
    {
     "data": {
      "image/png": "[encoded data removed]",
      "text/plain": [
       "<Figure size 432x288 with 1 Axes>"
      ]
     },
     "metadata": {
      "needs_background": "light"
     },
     "output_type": "display_data"
    }
   ],
   "source": [
    "housing_trimmed.plot()"
   ]
  },
  {
   "cell_type": "markdown",
   "id": "3cdda49b-f3bc-43b8-8197-862fab1f5778",
   "metadata": {},
   "source": [
    "### Step 12\n",
    "I wanted to see how many project names there are. I created 'total_projects' and used the value_counts() to identify the different project names in the dataset. "
   ]
  },
  {
   "cell_type": "code",
   "execution_count": 48,
   "id": "980e4a0b-d701-4402-8fde-bd34c1f73c74",
   "metadata": {},
   "outputs": [
    {
     "data": {
      "text/plain": [
       "LA Pro I Apts.                                                 5\n",
       "Preservation I Project                                         4\n",
       "Preservation III Project                                       4\n",
       "Holiday 101 A                                                  4\n",
       "LA Pro XXXII Apts                                              4\n",
       "                                                              ..\n",
       "HOUSTON HOMES APTS.                                            1\n",
       "2212 Workman                                                   1\n",
       "1909 w. adams apts                                             1\n",
       "Huncot Properties/3                                            1\n",
       "Vista Del Sol (Phase III of Pueblo Del Sol - Aliso Village)    1\n",
       "Name: PROJECT_NA, Length: 2336, dtype: int64"
      ]
     },
     "execution_count": 48,
     "metadata": {},
     "output_type": "execute_result"
    }
   ],
   "source": [
    "total_projects = housing_trimmed['PROJECT_NA'].value_counts()\n",
    "total_projects"
   ]
  },
  {
   "cell_type": "markdown",
   "id": "92e546a3-16d0-4450-93b3-f192ca50b733",
   "metadata": {},
   "source": [
    "### Step 13\n",
    "Finally, I ran a query to see a subset of the dataset with the project name 'Holiday 101 A'. "
   ]
  },
  {
   "cell_type": "code",
   "execution_count": 60,
   "id": "49c5ebe9-9e43-4f7c-8246-2dedc0508aff",
   "metadata": {},
   "outputs": [
    {
     "data": {
      "text/html": [
       "<div>\n",
       "<style scoped>\n",
       "    .dataframe tbody tr th:only-of-type {\n",
       "        vertical-align: middle;\n",
       "    }\n",
       "\n",
       "    .dataframe tbody tr th {\n",
       "        vertical-align: top;\n",
       "    }\n",
       "\n",
       "    .dataframe thead th {\n",
       "        text-align: right;\n",
       "    }\n",
       "</style>\n",
       "<table border=\"1\" class=\"dataframe\">\n",
       "  <thead>\n",
       "    <tr style=\"text-align: right;\">\n",
       "      <th></th>\n",
       "      <th>PROJECT_NA</th>\n",
       "      <th>AV_ADD</th>\n",
       "      <th>geometry</th>\n",
       "    </tr>\n",
       "  </thead>\n",
       "  <tbody>\n",
       "    <tr>\n",
       "      <th>316</th>\n",
       "      <td>Holiday 101 A</td>\n",
       "      <td>1131 S. BRONSON AVE.</td>\n",
       "      <td>POINT (-118.32320 34.05179)</td>\n",
       "    </tr>\n",
       "    <tr>\n",
       "      <th>326</th>\n",
       "      <td>Holiday 101 A</td>\n",
       "      <td>2962 FRANCIS AVE.</td>\n",
       "      <td>POINT (-118.29068 34.05682)</td>\n",
       "    </tr>\n",
       "    <tr>\n",
       "      <th>331</th>\n",
       "      <td>Holiday 101 A</td>\n",
       "      <td>1102 W. 41ST PL.</td>\n",
       "      <td>POINT (-118.29419 34.00906)</td>\n",
       "    </tr>\n",
       "    <tr>\n",
       "      <th>342</th>\n",
       "      <td>Holiday 101 A</td>\n",
       "      <td>1103 W. 42ND ST.</td>\n",
       "      <td>POINT (-118.29419 34.00733)</td>\n",
       "    </tr>\n",
       "  </tbody>\n",
       "</table>\n",
       "</div>"
      ],
      "text/plain": [
       "        PROJECT_NA                AV_ADD                     geometry\n",
       "316  Holiday 101 A  1131 S. BRONSON AVE.  POINT (-118.32320 34.05179)\n",
       "326  Holiday 101 A     2962 FRANCIS AVE.  POINT (-118.29068 34.05682)\n",
       "331  Holiday 101 A      1102 W. 41ST PL.  POINT (-118.29419 34.00906)\n",
       "342  Holiday 101 A      1103 W. 42ND ST.  POINT (-118.29419 34.00733)"
      ]
     },
     "execution_count": 60,
     "metadata": {},
     "output_type": "execute_result"
    }
   ],
   "source": [
    "housing_trimmed.query(\"PROJECT_NA == 'Holiday 101 A'\")"
   ]
  },
  {
   "cell_type": "code",
   "execution_count": null,
   "id": "7acc2e5c-71c9-4be2-b0e3-40f9986d1da5",
   "metadata": {},
   "outputs": [],
   "source": []
  }
 ],
 "metadata": {
  "kernelspec": {
   "display_name": "Python 3 (ipykernel)",
   "language": "python",
   "name": "python3"
  },
  "language_info": {
   "codemirror_mode": {
    "name": "ipython",
    "version": 3
   },
   "file_extension": ".py",
   "mimetype": "text/x-python",
   "name": "python",
   "nbconvert_exporter": "python",
   "pygments_lexer": "ipython3",
   "version": "3.9.6"
  }
 },
 "nbformat": 4,
 "nbformat_minor": 5
}
